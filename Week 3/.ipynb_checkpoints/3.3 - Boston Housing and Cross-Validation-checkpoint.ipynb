{
 "cells": [
  {
   "cell_type": "code",
   "execution_count": 1,
   "metadata": {
    "colab": {
     "base_uri": "https://localhost:8080/"
    },
    "executionInfo": {
     "elapsed": 4286,
     "status": "ok",
     "timestamp": 1642556503141,
     "user": {
      "displayName": "Gordon Burtch",
      "photoUrl": "https://lh3.googleusercontent.com/a-/AOh14Gi6kdrNKuddVmCp6HcajLgk8KM0o5MC7oJKYfMbVGU=s64",
      "userId": "10144756805379529333"
     },
     "user_tz": 300
    },
    "id": "LlY8FxDj_GJJ",
    "outputId": "0c6d8311-4ceb-4f2d-c640-dd88a152fe4f"
   },
   "outputs": [
    {
     "name": "stdout",
     "output_type": "stream",
     "text": [
      "Downloading data from https://storage.googleapis.com/tensorflow/tf-keras-datasets/boston_housing.npz\n",
      "57344/57026 [==============================] - 0s 0us/step\n",
      "65536/57026 [==================================] - 0s 0us/step\n"
     ]
    }
   ],
   "source": [
    "from tensorflow.keras.datasets import boston_housing\n",
    "(train_data, train_targets), (test_data, test_targets) = (\n",
    "    boston_housing.load_data())"
   ]
  },
  {
   "cell_type": "markdown",
   "metadata": {
    "id": "FMEdXpaO_8Tc"
   },
   "source": [
    "We don't have a very big dataset here... it's just 506 rows, total, 13 features."
   ]
  },
  {
   "cell_type": "code",
   "execution_count": 6,
   "metadata": {
    "colab": {
     "base_uri": "https://localhost:8080/"
    },
    "executionInfo": {
     "elapsed": 184,
     "status": "ok",
     "timestamp": 1642556619870,
     "user": {
      "displayName": "Gordon Burtch",
      "photoUrl": "https://lh3.googleusercontent.com/a-/AOh14Gi6kdrNKuddVmCp6HcajLgk8KM0o5MC7oJKYfMbVGU=s64",
      "userId": "10144756805379529333"
     },
     "user_tz": 300
    },
    "id": "3vTVWnOF_0Y9",
    "outputId": "9c90aca5-e3ad-4d74-aeba-2f70d702eea7"
   },
   "outputs": [
    {
     "name": "stdout",
     "output_type": "stream",
     "text": [
      "Train data dimensions: (404, 13)\n",
      "Test data dimensions: (102, 13)\n",
      "[15.2 42.3 50.  21.1 17.7 18.5 11.3 15.6 15.6 14.4 12.1 17.9 23.1 19.9\n",
      " 15.7  8.8 50.  22.5 24.1 27.5 10.9 30.8 32.9 24.  18.5 13.3 22.9 34.7\n",
      " 16.6 17.5 22.3 16.1 14.9 23.1 34.9 25.  13.9 13.1 20.4 20.  15.2 24.7\n",
      " 22.2 16.7 12.7 15.6 18.4 21.  30.1 15.1 18.7  9.6 31.5 24.8 19.1 22.\n",
      " 14.5 11.  32.  29.4 20.3 24.4 14.6 19.5 14.1 14.3 15.6 10.5  6.3 19.3\n",
      " 19.3 13.4 36.4 17.8 13.5 16.5  8.3 14.3 16.  13.4 28.6 43.5 20.2 22.\n",
      " 23.  20.7 12.5 48.5 14.6 13.4 23.7 50.  21.7 39.8 38.7 22.2 34.9 22.5\n",
      " 31.1 28.7 46.  41.7 21.  26.6 15.  24.4 13.3 21.2 11.7 21.7 19.4 50.\n",
      " 22.8 19.7 24.7 36.2 14.2 18.9 18.3 20.6 24.6 18.2  8.7 44.  10.4 13.2\n",
      " 21.2 37.  30.7 22.9 20.  19.3 31.7 32.  23.1 18.8 10.9 50.  19.6  5.\n",
      " 14.4 19.8 13.8 19.6 23.9 24.5 25.  19.9 17.2 24.6 13.5 26.6 21.4 11.9\n",
      " 22.6 19.6  8.5 23.7 23.1 22.4 20.5 23.6 18.4 35.2 23.1 27.9 20.6 23.7\n",
      " 28.  13.6 27.1 23.6 20.6 18.2 21.7 17.1  8.4 25.3 13.8 22.2 18.4 20.7\n",
      " 31.6 30.5 20.3  8.8 19.2 19.4 23.1 23.  14.8 48.8 22.6 33.4 21.1 13.6\n",
      " 32.2 13.1 23.4 18.9 23.9 11.8 23.3 22.8 19.6 16.7 13.4 22.2 20.4 21.8\n",
      " 26.4 14.9 24.1 23.8 12.3 29.1 21.  19.5 23.3 23.8 17.8 11.5 21.7 19.9\n",
      " 25.  33.4 28.5 21.4 24.3 27.5 33.1 16.2 23.3 48.3 22.9 22.8 13.1 12.7\n",
      " 22.6 15.  15.3 10.5 24.  18.5 21.7 19.5 33.2 23.2  5.  19.1 12.7 22.3\n",
      " 10.2 13.9 16.3 17.  20.1 29.9 17.2 37.3 45.4 17.8 23.2 29.  22.  18.\n",
      " 17.4 34.6 20.1 25.  15.6 24.8 28.2 21.2 21.4 23.8 31.  26.2 17.4 37.9\n",
      " 17.5 20.   8.3 23.9  8.4 13.8  7.2 11.7 17.1 21.6 50.  16.1 20.4 20.6\n",
      " 21.4 20.6 36.5  8.5 24.8 10.8 21.9 17.3 18.9 36.2 14.9 18.2 33.3 21.8\n",
      " 19.7 31.6 24.8 19.4 22.8  7.5 44.8 16.8 18.7 50.  50.  19.5 20.1 50.\n",
      " 17.2 20.8 19.3 41.3 20.4 20.5 13.8 16.5 23.9 20.6 31.5 23.3 16.8 14.\n",
      " 33.8 36.1 12.8 18.3 18.7 19.1 29.  30.1 50.  50.  22.  11.9 37.6 50.\n",
      " 22.7 20.8 23.5 27.9 50.  19.3 23.9 22.6 15.2 21.7 19.2 43.8 20.3 33.2\n",
      " 19.9 22.5 32.7 22.  17.1 19.  15.  16.1 25.1 23.7 28.7 37.2 22.6 16.4\n",
      " 25.  29.8 22.1 17.4 18.1 30.3 17.5 24.7 12.6 26.5 28.7 13.3 10.4 24.4\n",
      " 23.  20.  17.8  7.  11.8 24.4 13.8 19.4 25.2 19.4 19.4 29.1]\n"
     ]
    }
   ],
   "source": [
    "print(\"Train data dimensions:\",train_data.shape)\n",
    "print(\"Test data dimensions:\",test_data.shape)\n",
    "print(train_targets) # these are home prices in $1,000s of dollars (in the 70s that was a lot of money)"
   ]
  },
  {
   "cell_type": "markdown",
   "metadata": {
    "id": "5JbG2s9SAVRK"
   },
   "source": [
    "Let's whiten the data..."
   ]
  },
  {
   "cell_type": "code",
   "execution_count": 19,
   "metadata": {
    "executionInfo": {
     "elapsed": 269,
     "status": "ok",
     "timestamp": 1642558013363,
     "user": {
      "displayName": "Gordon Burtch",
      "photoUrl": "https://lh3.googleusercontent.com/a-/AOh14Gi6kdrNKuddVmCp6HcajLgk8KM0o5MC7oJKYfMbVGU=s64",
      "userId": "10144756805379529333"
     },
     "user_tz": 300
    },
    "id": "aST1M3scAU1b"
   },
   "outputs": [],
   "source": [
    "mean = train_data.mean(axis=0)\n",
    "train_data -= mean\n",
    "std = train_data.std(axis=0)\n",
    "train_data /= std\n",
    "test_data -= mean\n",
    "test_data /= std"
   ]
  },
  {
   "cell_type": "markdown",
   "metadata": {
    "id": "SAo9LHOIAYmU"
   },
   "source": [
    "And, let's define our simple network. We are going to define a simple function that re-specifies a model and compiles it. We're doing this because we will use this inside a nested loop that implements k-fold cross-validation. This is something you've probably already learned in other classes, but when your sample is small, it's generally not a good idea to rely on single random holdout for model evaluation. "
   ]
  },
  {
   "cell_type": "code",
   "execution_count": 24,
   "metadata": {
    "executionInfo": {
     "elapsed": 185,
     "status": "ok",
     "timestamp": 1642558051501,
     "user": {
      "displayName": "Gordon Burtch",
      "photoUrl": "https://lh3.googleusercontent.com/a-/AOh14Gi6kdrNKuddVmCp6HcajLgk8KM0o5MC7oJKYfMbVGU=s64",
      "userId": "10144756805379529333"
     },
     "user_tz": 300
    },
    "id": "xzx0nWWwAbMu"
   },
   "outputs": [],
   "source": [
    "from tensorflow import keras\n",
    "from tensorflow.keras import layers\n",
    "\n",
    "def build_model():\n",
    "    model = keras.Sequential([\n",
    "        layers.Dense(64, activation=\"relu\"),\n",
    "        layers.Dense(64, activation=\"relu\"),\n",
    "        layers.Dense(1)\n",
    "    ])\n",
    "    model.compile(optimizer=\"rmsprop\", loss=\"mse\", metrics=[\"mae\"])\n",
    "    return model"
   ]
  },
  {
   "cell_type": "markdown",
   "metadata": {
    "id": "e41aeQ4KB6h7"
   },
   "source": [
    "The example code from the book breaks up the training sample into k folds, and cycles over each, leveraging the *other* k-1 folds for training, and using the focal fold evaluation. We store the average validation error metric across the k runs. We can repeat this process using different numbers of epochs, batch sizes, etc. Eventually, when we settle on a model that looks good, we do a final evaluation on the test data.  "
   ]
  },
  {
   "cell_type": "code",
   "execution_count": 35,
   "metadata": {
    "colab": {
     "base_uri": "https://localhost:8080/"
    },
    "executionInfo": {
     "elapsed": 143310,
     "status": "ok",
     "timestamp": 1642558820997,
     "user": {
      "displayName": "Gordon Burtch",
      "photoUrl": "https://lh3.googleusercontent.com/a-/AOh14Gi6kdrNKuddVmCp6HcajLgk8KM0o5MC7oJKYfMbVGU=s64",
      "userId": "10144756805379529333"
     },
     "user_tz": 300
    },
    "id": "OaJuoT7QCHnY",
    "outputId": "bbe127d5-d5ad-451b-f1b9-a109d4ed1759"
   },
   "outputs": [
    {
     "name": "stdout",
     "output_type": "stream",
     "text": [
      "In total, we have 404 training observations.\n",
      "With a k of 4 we have 101 observations per fold.\n",
      "\n",
      "Processing fold #: 0\n",
      "Validation data includes observations 0 through 100\n",
      "Training data includes observations 0 through -1 joined with observations 101 through the final observation.\n",
      "\n",
      "Processing fold #: 1\n",
      "Validation data includes observations 101 through 201\n",
      "Training data includes observations 0 through 100 joined with observations 202 through the final observation.\n",
      "\n",
      "Processing fold #: 2\n",
      "Validation data includes observations 202 through 302\n",
      "Training data includes observations 0 through 201 joined with observations 303 through the final observation.\n",
      "\n",
      "Processing fold #: 3\n",
      "Validation data includes observations 303 through 403\n",
      "Training data includes observations 0 through 302 joined with observations 404 through the final observation.\n",
      "\n"
     ]
    }
   ],
   "source": [
    "k = 4 \n",
    "num_val_samples = len(train_data) // k # floor division (i.e., round down to nearest integer.)\n",
    "num_epochs = 500\n",
    "all_mae_histories = []  \n",
    "\n",
    "print(\"In total, we have\",len(train_data),\"training observations.\")\n",
    "print(\"With a k of\",k,\"we have\",num_val_samples,\"observations per fold.\\n\")\n",
    "\n",
    "for i in range(k): # the folds are going to be indexed 0 through 3 if k = 4\n",
    "    print(\"Processing fold #:\",i)\n",
    "    # if I slice past the end of the array, it just gives me what it can find! No errors.\n",
    "    # This is important here, because the last fold won't produce an error, despite our slice going well beyond the end of the array.\n",
    "    print(\"Validation data includes observations\",i*num_val_samples,\"through\",(i+1)*num_val_samples-1) # minus 1 because a slice is up to and not including the second index.\n",
    "    val_data = train_data[i * num_val_samples: (i + 1) * num_val_samples] \n",
    "    val_targets = train_targets[i * num_val_samples: (i + 1) * num_val_samples]\n",
    "    print(\"Training data includes observations 0 through\",i*num_val_samples-1,\"joined with observations\",(i+1)*num_val_samples,\"through the final observation.\\n\")\n",
    "    partial_train_data = np.concatenate(\n",
    "        [train_data[:i * num_val_samples],\n",
    "         train_data[(i + 1) * num_val_samples:]],\n",
    "        axis=0)\n",
    "    partial_train_targets = np.concatenate(\n",
    "        [train_targets[:i * num_val_samples],\n",
    "         train_targets[(i + 1) * num_val_samples:]],\n",
    "        axis=0)\n",
    "    model = build_model()\n",
    "    history = model.fit(partial_train_data, partial_train_targets,\n",
    "                        validation_data=(val_data, val_targets),\n",
    "                        epochs=num_epochs, batch_size=16, verbose=0)\n",
    "    mae_history = history.history['val_mae']\n",
    "    all_mae_histories.append(mae_history)"
   ]
  },
  {
   "cell_type": "markdown",
   "metadata": {
    "id": "bX7aHci0IqdY"
   },
   "source": [
    "Now we can calculate the average MAE in each epoch, across the 4 iterations. That is, for epoch 1, take the average MAE over the 4 iterations, then do it again for epoch 2, and so on. We will end up with 500 averages.  "
   ]
  },
  {
   "cell_type": "code",
   "execution_count": 40,
   "metadata": {
    "colab": {
     "base_uri": "https://localhost:8080/"
    },
    "executionInfo": {
     "elapsed": 222,
     "status": "ok",
     "timestamp": 1642559134105,
     "user": {
      "displayName": "Gordon Burtch",
      "photoUrl": "https://lh3.googleusercontent.com/a-/AOh14Gi6kdrNKuddVmCp6HcajLgk8KM0o5MC7oJKYfMbVGU=s64",
      "userId": "10144756805379529333"
     },
     "user_tz": 300
    },
    "id": "qMxYGrnTJEe8",
    "outputId": "f577c11f-58dd-4f85-f1bf-6809d726231b"
   },
   "outputs": [
    {
     "data": {
      "text/plain": [
       "500"
      ]
     },
     "execution_count": 40,
     "metadata": {},
     "output_type": "execute_result"
    }
   ],
   "source": [
    "average_mae_history = [np.mean([x[i] for x in all_mae_histories]) for i in range(num_epochs)]\n",
    "len(average_mae_history)"
   ]
  },
  {
   "cell_type": "markdown",
   "metadata": {
    "id": "M3v4wWCEJ4Y-"
   },
   "source": [
    "And now we plot them."
   ]
  },
  {
   "cell_type": "code",
   "execution_count": 43,
   "metadata": {
    "colab": {
     "base_uri": "https://localhost:8080/",
     "height": 279
    },
    "executionInfo": {
     "elapsed": 367,
     "status": "ok",
     "timestamp": 1642559227172,
     "user": {
      "displayName": "Gordon Burtch",
      "photoUrl": "https://lh3.googleusercontent.com/a-/AOh14Gi6kdrNKuddVmCp6HcajLgk8KM0o5MC7oJKYfMbVGU=s64",
      "userId": "10144756805379529333"
     },
     "user_tz": 300
    },
    "id": "s-0GmU9dJ6D5",
    "outputId": "cf6e8076-57bd-41a5-8c3f-f61df6b472eb"
   },
   "outputs": [
    {
     "data": {
      "image/png": "[encoded data removed]",
      "text/plain": [
       "<Figure size 432x288 with 1 Axes>"
      ]
     },
     "metadata": {
      "needs_background": "light"
     },
     "output_type": "display_data"
    }
   ],
   "source": [
    "import matplotlib.pyplot as plt\n",
    "\n",
    "plt.plot(average_mae_history[10:])\n",
    "plt.xlabel(\"Epochs\")\n",
    "plt.ylabel(\"Validation MAE\")\n",
    "plt.show()"
   ]
  },
  {
   "cell_type": "markdown",
   "metadata": {
    "id": "HY_7rMNQKTXS"
   },
   "source": [
    "Now we fit a final model and evaluate its performance on the test data. Being off by ~$2,500 in 70's dollars is a lot actually. Our model isn't that great. "
   ]
  },
  {
   "cell_type": "code",
   "execution_count": 46,
   "metadata": {
    "colab": {
     "base_uri": "https://localhost:8080/"
    },
    "executionInfo": {
     "elapsed": 6029,
     "status": "ok",
     "timestamp": 1642559325208,
     "user": {
      "displayName": "Gordon Burtch",
      "photoUrl": "https://lh3.googleusercontent.com/a-/AOh14Gi6kdrNKuddVmCp6HcajLgk8KM0o5MC7oJKYfMbVGU=s64",
      "userId": "10144756805379529333"
     },
     "user_tz": 300
    },
    "id": "UKIk-xMuKV5Q",
    "outputId": "e1055041-36e3-454a-8b81-d1b0f2e3314a"
   },
   "outputs": [
    {
     "name": "stdout",
     "output_type": "stream",
     "text": [
      "4/4 [==============================] - 0s 3ms/step - loss: 15.3586 - mae: 2.5721\n"
     ]
    }
   ],
   "source": [
    "model = build_model()\n",
    "model.fit(train_data, train_targets,\n",
    "          epochs=150, batch_size=16, verbose=0)\n",
    "test_mse_score, test_mae_score = model.evaluate(test_data, test_targets)"
   ]
  },
  {
   "cell_type": "markdown",
   "metadata": {
    "id": "hmFtFngZK9cM"
   },
   "source": [
    "And of course, this is how we obtain predictions from the model. "
   ]
  },
  {
   "cell_type": "code",
   "execution_count": 48,
   "metadata": {
    "colab": {
     "base_uri": "https://localhost:8080/"
    },
    "executionInfo": {
     "elapsed": 184,
     "status": "ok",
     "timestamp": 1642559447706,
     "user": {
      "displayName": "Gordon Burtch",
      "photoUrl": "https://lh3.googleusercontent.com/a-/AOh14Gi6kdrNKuddVmCp6HcajLgk8KM0o5MC7oJKYfMbVGU=s64",
      "userId": "10144756805379529333"
     },
     "user_tz": 300
    },
    "id": "cqTnff_cK6ck",
    "outputId": "ceeca6e3-3b6d-4c43-dd18-70445d88d554"
   },
   "outputs": [
    {
     "name": "stdout",
     "output_type": "stream",
     "text": [
      "[[10.280711 ]\n",
      " [19.103233 ]\n",
      " [21.518845 ]\n",
      " [35.391533 ]\n",
      " [24.731518 ]\n",
      " [21.749826 ]\n",
      " [27.74731  ]\n",
      " [21.521023 ]\n",
      " [19.16489  ]\n",
      " [20.875292 ]\n",
      " [19.911932 ]\n",
      " [16.344059 ]\n",
      " [17.185558 ]\n",
      " [43.238735 ]\n",
      " [21.399181 ]\n",
      " [19.720594 ]\n",
      " [25.241062 ]\n",
      " [19.135944 ]\n",
      " [18.183025 ]\n",
      " [22.549217 ]\n",
      " [10.902165 ]\n",
      " [13.782114 ]\n",
      " [21.355572 ]\n",
      " [15.367642 ]\n",
      " [18.936405 ]\n",
      " [24.24224  ]\n",
      " [31.03392  ]\n",
      " [31.35704  ]\n",
      " [11.99444  ]\n",
      " [19.597141 ]\n",
      " [20.02093  ]\n",
      " [15.964517 ]\n",
      " [30.920254 ]\n",
      " [23.569061 ]\n",
      " [20.065453 ]\n",
      " [ 8.397833 ]\n",
      " [16.699444 ]\n",
      " [16.96703  ]\n",
      " [19.22424  ]\n",
      " [26.750256 ]\n",
      " [32.073742 ]\n",
      " [26.880154 ]\n",
      " [14.433264 ]\n",
      " [45.083454 ]\n",
      " [27.197598 ]\n",
      " [25.420835 ]\n",
      " [27.711008 ]\n",
      " [17.94342  ]\n",
      " [22.569622 ]\n",
      " [22.19186  ]\n",
      " [37.55206  ]\n",
      " [19.818329 ]\n",
      " [ 9.8978   ]\n",
      " [13.609992 ]\n",
      " [35.444805 ]\n",
      " [27.927446 ]\n",
      " [12.7012005]\n",
      " [49.41966  ]\n",
      " [33.065304 ]\n",
      " [23.266102 ]\n",
      " [22.598946 ]\n",
      " [16.202154 ]\n",
      " [16.555834 ]\n",
      " [19.407814 ]\n",
      " [23.417206 ]\n",
      " [19.929508 ]\n",
      " [14.128514 ]\n",
      " [21.66015  ]\n",
      " [14.76003  ]\n",
      " [ 8.485191 ]\n",
      " [21.620232 ]\n",
      " [30.219616 ]\n",
      " [26.28629  ]\n",
      " [13.702643 ]\n",
      " [25.8735   ]\n",
      " [18.366764 ]\n",
      " [19.141617 ]\n",
      " [23.442627 ]\n",
      " [35.553814 ]\n",
      " [10.054599 ]\n",
      " [22.047592 ]\n",
      " [39.103733 ]\n",
      " [16.041973 ]\n",
      " [14.034917 ]\n",
      " [17.527735 ]\n",
      " [17.189575 ]\n",
      " [24.074402 ]\n",
      " [22.594868 ]\n",
      " [20.924397 ]\n",
      " [28.67845  ]\n",
      " [19.946548 ]\n",
      " [18.352999 ]\n",
      " [26.258339 ]\n",
      " [45.72907  ]\n",
      " [37.002846 ]\n",
      " [21.181957 ]\n",
      " [36.25835  ]\n",
      " [44.227146 ]\n",
      " [24.653584 ]\n",
      " [46.499443 ]\n",
      " [33.87299  ]\n",
      " [20.098988 ]]\n"
     ]
    }
   ],
   "source": [
    "predictions = model.predict(test_data)\n",
    "print(predictions)"
   ]
  }
 ],
 "metadata": {
  "colab": {
   "authorship_tag": "ABX9TyP+KNblDEpdIWNrEYY5Rp5C",
   "name": "Boston Housing and Cross-Validation.ipynb",
   "provenance": []
  },
  "kernelspec": {
   "display_name": "Python 3 (ipykernel)",
   "language": "python",
   "name": "python3"
  },
  "language_info": {
   "codemirror_mode": {
    "name": "ipython",
    "version": 3
   },
   "file_extension": ".py",
   "mimetype": "text/x-python",
   "name": "python",
   "nbconvert_exporter": "python",
   "pygments_lexer": "ipython3",
   "version": "3.9.4"
  }
 },
 "nbformat": 4,
 "nbformat_minor": 1
}
